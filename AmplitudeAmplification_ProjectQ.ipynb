{
  "nbformat": 4,
  "nbformat_minor": 0,
  "metadata": {
    "colab": {
      "name": "AmplitudeAmplification_ProjectQ.ipynb",
      "provenance": [],
      "collapsed_sections": [],
      "include_colab_link": true
    },
    "kernelspec": {
      "name": "python3",
      "display_name": "Python 3"
    }
  },
  "cells": [
    {
      "cell_type": "markdown",
      "metadata": {
        "id": "view-in-github",
        "colab_type": "text"
      },
      "source": [
        "<a href=\"https://colab.research.google.com/github/fernandodelaiglesia/cajondesastre/blob/master/AmplitudeAmplification_ProjectQ.ipynb\" target=\"_parent\"><img src=\"https://colab.research.google.com/assets/colab-badge.svg\" alt=\"Open In Colab\"/></a>"
      ]
    },
    {
      "cell_type": "markdown",
      "metadata": {
        "id": "TfgqawO7WJAY",
        "colab_type": "text"
      },
      "source": [
        "# Quantum Amplitude Amplification with ProjectQ\n",
        "\n",
        "This notebook provide the usage examples developed in\n",
        "\n",
        "https://medium.com/@fernando.delaiglesia/quantum-amplitude-amplification-algorithm-qaa-in-projectq-7d675ddd89f1\n",
        "\n",
        "The key reference material is:\n",
        "\n",
        "\n",
        "*   The quick  [Wikipedia article](https://en.wikipedia.org/wiki/Amplitude_amplification), were you can find more references therein\n",
        "*   The complete paper by G. Brassard, P. Hoyer, M. Mosca, A. Tapp (2000) Quantum Amplitude Amplification and Estimation https://arxiv.org/abs/quant-ph/0005055\n"
      ]
    },
    {
      "cell_type": "markdown",
      "metadata": {
        "id": "2F6sqEtHTieK",
        "colab_type": "text"
      },
      "source": [
        "## Preliminary notes\n",
        "\n",
        "This notebook is created assuming that the Quantum Amplitude Amplification (QAA) gate is still in the develop branch, and therefore you need to clone the ProjectQ github repo to be able to use it.\n",
        "\n",
        "If you use this notebook after QAA is included in the python package you don't need to clone the repo and add the path to the sys.path, but just to install projectq with:\n",
        "\n",
        "`!pip install projectq`"
      ]
    },
    {
      "cell_type": "code",
      "metadata": {
        "id": "282Jzt9BT4-D",
        "colab_type": "code",
        "outputId": "d3f2d6c2-92ed-47ff-9cb2-a0d3e9dffcec",
        "colab": {
          "base_uri": "https://localhost:8080/",
          "height": 139
        }
      },
      "source": [
        "! git clone https://github.com/ProjectQ-Framework/ProjectQ.git"
      ],
      "execution_count": 1,
      "outputs": [
        {
          "output_type": "stream",
          "text": [
            "Cloning into 'ProjectQ'...\n",
            "remote: Enumerating objects: 4, done.\u001b[K\n",
            "remote: Counting objects: 100% (4/4), done.\u001b[K\n",
            "remote: Compressing objects: 100% (4/4), done.\u001b[K\n",
            "remote: Total 2004 (delta 0), reused 0 (delta 0), pack-reused 2000\u001b[K\n",
            "Receiving objects: 100% (2004/2004), 882.53 KiB | 3.22 MiB/s, done.\n",
            "Resolving deltas: 100% (1468/1468), done.\n"
          ],
          "name": "stdout"
        }
      ]
    },
    {
      "cell_type": "code",
      "metadata": {
        "id": "KXmIRVrsUKRb",
        "colab_type": "code",
        "colab": {}
      },
      "source": [
        "import sys\n",
        "sys.path.append('/content/ProjectQ/')"
      ],
      "execution_count": 0,
      "outputs": []
    },
    {
      "cell_type": "markdown",
      "metadata": {
        "id": "42b7Kp34X5wC",
        "colab_type": "text"
      },
      "source": [
        "Import the requred libs"
      ]
    },
    {
      "cell_type": "code",
      "metadata": {
        "id": "_oq4g5OSX9Px",
        "colab_type": "code",
        "colab": {}
      },
      "source": [
        "from projectq import MainEngine\n",
        "from projectq.backends import Simulator\n",
        "from projectq.ops import (X, H, Ry, All, Measure)\n",
        "from projectq.meta import Loop, Control, Compute, Uncompute\n",
        "from projectq.ops import QAA\n",
        "\n",
        "import math"
      ],
      "execution_count": 0,
      "outputs": []
    },
    {
      "cell_type": "markdown",
      "metadata": {
        "id": "xBZmvjJVaE3X",
        "colab_type": "text"
      },
      "source": [
        "# Grover Algorithm\n",
        "\n",
        "This example presents a especial case of QAA that is the famous Grover algorithm.\n",
        "\n",
        "The Oracle selects the state `|1010101>` , and the initial algorithm applied on the `|0>` state is the Hadamard that creates a uniform superposition of all the states in the Hilbert space"
      ]
    },
    {
      "cell_type": "code",
      "metadata": {
        "id": "m5kOM64Nar66",
        "colab_type": "code",
        "colab": {}
      },
      "source": [
        "def hache_algorithm(eng, qreg):\n",
        "    All(H) | qreg\n",
        "\n",
        "\n",
        "def simple_oracle(eng, system_q, control):\n",
        "    # This oracle selects the state |1010101> as the one marked\n",
        "    with Compute(eng):\n",
        "        All(X) | system_q[1::2]\n",
        "    with Control(eng, system_q):\n",
        "        X | control\n",
        "    Uncompute(eng)"
      ],
      "execution_count": 0,
      "outputs": []
    },
    {
      "cell_type": "markdown",
      "metadata": {
        "id": "BjgR-mrq9Yfy",
        "colab_type": "text"
      },
      "source": [
        "Here we use QAA to obtain the selected state with high probability"
      ]
    },
    {
      "cell_type": "code",
      "metadata": {
        "id": "ln52iOv89i3L",
        "colab_type": "code",
        "outputId": "a9ae18b0-6478-4991-fe6d-ce914449b8ac",
        "colab": {
          "base_uri": "https://localhost:8080/",
          "height": 52
        }
      },
      "source": [
        "eng = MainEngine()\n",
        "\n",
        "n = 7\n",
        "system_qubits = eng.allocate_qureg(n)\n",
        "\n",
        "# Prepare the control qubit in the |-> state\n",
        "control = eng.allocate_qubit()\n",
        "X | control\n",
        "H | control\n",
        "\n",
        "# Creates the initial state form the Algorithm\n",
        "hache_algorithm(eng, system_qubits)\n",
        "\n",
        "# The correct number of iterations is related to the initial\n",
        "# amplitude of the selected state after the execution of the\n",
        "# Algorithm. For Grover that means an equal superposition of\n",
        "# all the states, therefore the amplitude is 1/sqrt(2**7)\n",
        "\n",
        "num_it = int(math.pi/4.* math.sqrt(2**n))\n",
        "\n",
        "# Apply Quantum Amplitude Amplification the correct number of times\n",
        "with Loop(eng, num_it):\n",
        "    QAA(hache_algorithm, simple_oracle) | (system_qubits, control)\n",
        "\n",
        "# If we measure the system we would find the selected state with\n",
        "# high probability\n",
        "\n",
        "All(Measure) | system_qubits\n",
        "H | control\n",
        "Measure | control\n",
        "result = [int(q) for q in system_qubits]\n",
        "control_result = int(control)\n",
        "\n",
        "print (result)\n",
        "\n",
        "eng.flush()\n"
      ],
      "execution_count": 0,
      "outputs": [
        {
          "output_type": "stream",
          "text": [
            "(Note: This is the (slow) Python simulator.)\n",
            "[1, 0, 1, 0, 1, 0, 1]\n"
          ],
          "name": "stdout"
        }
      ]
    },
    {
      "cell_type": "markdown",
      "metadata": {
        "id": "GiwZSRYVGZmx",
        "colab_type": "text"
      },
      "source": [
        "# QAA for a complex algorithm and oracle\n",
        "\n",
        "For a more general aplication of QAA we can use an oracle that selects a subspace from the Hilbert space starting form a general algorithm creating a superposition that is not uniform.\n",
        "\n"
      ]
    },
    {
      "cell_type": "code",
      "metadata": {
        "id": "kp_SogF2Hf9H",
        "colab_type": "code",
        "colab": {}
      },
      "source": [
        "def complex_algorithm(eng, qreg):\n",
        "    All(H) | qreg\n",
        "    with Control(eng, qreg[0]):\n",
        "        All(X) | qreg[1:]\n",
        "    All(Ry(math.pi / 4)) | qreg[1:]\n",
        "    with Control(eng, qreg[-1]):\n",
        "        All(X) | qreg[1:-1]\n",
        "\n",
        "\n",
        "def complex_oracle(eng, system_q, control):\n",
        "    # This oracle selects the subspace |000000>+|111111> as the good one\n",
        "    with Compute(eng):\n",
        "        with Control(eng, system_q[0]):\n",
        "            All(X) | system_q[1:]\n",
        "        H | system_q[0]\n",
        "        All(X) | system_q\n",
        "\n",
        "    with Control(eng, system_q):\n",
        "        X | control\n",
        "\n",
        "    Uncompute(eng)\n"
      ],
      "execution_count": 0,
      "outputs": []
    },
    {
      "cell_type": "markdown",
      "metadata": {
        "id": "ayQrVM4KHm2K",
        "colab_type": "text"
      },
      "source": [
        "## If we know the initial amplitude of the selected subspace (good subspace)\n",
        "\n",
        "For the first example let's supose that we know the probability/amplitude of the good subspace. In this case we can know easily the number of iterarios to run the QAA to obtain the selected subspace with high probability. From our simulator this is very easy to obtain by cheating and getting the probability of the states"
      ]
    },
    {
      "cell_type": "code",
      "metadata": {
        "id": "k75DWirsL5ss",
        "colab_type": "code",
        "outputId": "609786f7-4c1a-445c-83f6-992bb6fd4531",
        "colab": {
          "base_uri": "https://localhost:8080/",
          "height": 52
        }
      },
      "source": [
        "eng = MainEngine()\n",
        "\n",
        "system_qubits = eng.allocate_qureg(6)\n",
        "\n",
        "# Prepare the control qubit in the |-> state\n",
        "control = eng.allocate_qubit()\n",
        "X | control\n",
        "H | control\n",
        "\n",
        "# Creates the initial state form the Algorithm\n",
        "complex_algorithm(eng, system_qubits)\n",
        "\n",
        "# Get the probabilty of getting the marked state before the QAA\n",
        "# to calculate the number of iterations\n",
        "eng.flush()\n",
        "prob000000 = eng.backend.get_probability('000000', system_qubits)\n",
        "prob111111 = eng.backend.get_probability('111111', system_qubits)\n",
        "\n",
        "total_amp_before = math.sqrt(prob000000 + prob111111)\n",
        "theta_before = math.asin(total_amp_before)\n",
        "\n",
        "# The number of iterations to run QAA is related to the probability\n",
        "# of the good subspace after applying the algorithm for the first\n",
        "# time to the |0> state\n",
        "\n",
        "num_it = int(math.pi / (4. * theta_before) + 1)\n",
        "\n",
        "# Apply Quantum Amplitude Amplification the correct number of times\n",
        "\n",
        "with Loop(eng, num_it):\n",
        "    QAA(complex_algorithm, complex_oracle) | (system_qubits, control)\n",
        "\n",
        "# If we measure the system now we would obtain a result in the\n",
        "# good subspace with high probability\n",
        "\n",
        "All(Measure) | system_qubits\n",
        "H | control\n",
        "Measure | control\n",
        "result = [int(q) for q in system_qubits]\n",
        "control_result = int(control)\n",
        "\n",
        "print (result)\n",
        "\n",
        "eng.flush()\n"
      ],
      "execution_count": 6,
      "outputs": [
        {
          "output_type": "stream",
          "text": [
            "(Note: This is the (slow) Python simulator.)\n",
            "[1, 1, 1, 1, 1, 1]\n"
          ],
          "name": "stdout"
        }
      ]
    }
  ]
}
