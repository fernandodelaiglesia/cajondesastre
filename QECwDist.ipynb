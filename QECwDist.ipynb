{
  "nbformat": 4,
  "nbformat_minor": 0,
  "metadata": {
    "colab": {
      "name": "QECwDist.ipynb",
      "version": "0.3.2",
      "provenance": [],
      "collapsed_sections": [],
      "include_colab_link": true
    },
    "kernelspec": {
      "name": "python3",
      "display_name": "Python 3"
    }
  },
  "cells": [
    {
      "cell_type": "markdown",
      "metadata": {
        "id": "view-in-github",
        "colab_type": "text"
      },
      "source": [
        "<a href=\"https://colab.research.google.com/github/fernandodelaiglesia/cajondesastre/blob/master/QECwDist.ipynb\" target=\"_parent\"><img src=\"https://colab.research.google.com/assets/colab-badge.svg\" alt=\"Open In Colab\"/></a>"
      ]
    },
    {
      "cell_type": "markdown",
      "metadata": {
        "id": "-EdZ7JzhIdeL",
        "colab_type": "text"
      },
      "source": [
        "# BitFlip QEC with distribution"
      ]
    },
    {
      "cell_type": "code",
      "metadata": {
        "id": "JSI3GQcpIboB",
        "colab_type": "code",
        "colab": {
          "base_uri": "https://localhost:8080/",
          "height": 581
        },
        "outputId": "7aaa5453-c482-4815-cc98-98fd97ad0e3d"
      },
      "source": [
        "!pip install projectq"
      ],
      "execution_count": 1,
      "outputs": [
        {
          "output_type": "stream",
          "text": [
            "Collecting projectq\n",
            "\u001b[?25l  Downloading https://files.pythonhosted.org/packages/2a/3e/138ed37bcc17a5a6903369ce22f665481685b4c66edbfeb1217e593a6f1e/projectq-0.4.2.tar.gz (191kB)\n",
            "\u001b[K     |████████████████████████████████| 194kB 2.9MB/s \n",
            "\u001b[?25hRequirement already satisfied: numpy in /usr/local/lib/python3.6/dist-packages (from projectq) (1.16.4)\n",
            "Requirement already satisfied: future in /usr/local/lib/python3.6/dist-packages (from projectq) (0.16.0)\n",
            "Requirement already satisfied: pytest>=3.1 in /usr/local/lib/python3.6/dist-packages (from projectq) (3.6.4)\n",
            "Collecting pybind11>=2.2.3 (from projectq)\n",
            "\u001b[?25l  Downloading https://files.pythonhosted.org/packages/5d/85/c7a8dffda52ce25a8bcfe9a28b6861bdd52da59ae001fdd4173e054b7d9b/pybind11-2.3.0-py2.py3-none-any.whl (147kB)\n",
            "\u001b[K     |████████████████████████████████| 153kB 42.6MB/s \n",
            "\u001b[?25hRequirement already satisfied: requests in /usr/local/lib/python3.6/dist-packages (from projectq) (2.21.0)\n",
            "Requirement already satisfied: scipy in /usr/local/lib/python3.6/dist-packages (from projectq) (1.3.0)\n",
            "Requirement already satisfied: networkx in /usr/local/lib/python3.6/dist-packages (from projectq) (2.3)\n",
            "Requirement already satisfied: six>=1.10.0 in /usr/local/lib/python3.6/dist-packages (from pytest>=3.1->projectq) (1.12.0)\n",
            "Requirement already satisfied: pluggy<0.8,>=0.5 in /usr/local/lib/python3.6/dist-packages (from pytest>=3.1->projectq) (0.7.1)\n",
            "Requirement already satisfied: setuptools in /usr/local/lib/python3.6/dist-packages (from pytest>=3.1->projectq) (41.0.1)\n",
            "Requirement already satisfied: atomicwrites>=1.0 in /usr/local/lib/python3.6/dist-packages (from pytest>=3.1->projectq) (1.3.0)\n",
            "Requirement already satisfied: py>=1.5.0 in /usr/local/lib/python3.6/dist-packages (from pytest>=3.1->projectq) (1.8.0)\n",
            "Requirement already satisfied: more-itertools>=4.0.0 in /usr/local/lib/python3.6/dist-packages (from pytest>=3.1->projectq) (7.2.0)\n",
            "Requirement already satisfied: attrs>=17.4.0 in /usr/local/lib/python3.6/dist-packages (from pytest>=3.1->projectq) (19.1.0)\n",
            "Requirement already satisfied: urllib3<1.25,>=1.21.1 in /usr/local/lib/python3.6/dist-packages (from requests->projectq) (1.24.3)\n",
            "Requirement already satisfied: chardet<3.1.0,>=3.0.2 in /usr/local/lib/python3.6/dist-packages (from requests->projectq) (3.0.4)\n",
            "Requirement already satisfied: idna<2.9,>=2.5 in /usr/local/lib/python3.6/dist-packages (from requests->projectq) (2.8)\n",
            "Requirement already satisfied: certifi>=2017.4.17 in /usr/local/lib/python3.6/dist-packages (from requests->projectq) (2019.6.16)\n",
            "Requirement already satisfied: decorator>=4.3.0 in /usr/local/lib/python3.6/dist-packages (from networkx->projectq) (4.4.0)\n",
            "Building wheels for collected packages: projectq\n",
            "  Building wheel for projectq (setup.py) ... \u001b[?25lerror\n",
            "\u001b[31m  ERROR: Failed building wheel for projectq\u001b[0m\n",
            "\u001b[?25h  Running setup.py clean for projectq\n",
            "Failed to build projectq\n",
            "Installing collected packages: pybind11, projectq\n",
            "  Running setup.py install for projectq ... \u001b[?25l\u001b[?25hdone\n",
            "Successfully installed projectq-0.4.2 pybind11-2.3.0\n"
          ],
          "name": "stdout"
        }
      ]
    },
    {
      "cell_type": "code",
      "metadata": {
        "id": "o4e2kgcpIq2U",
        "colab_type": "code",
        "colab": {}
      },
      "source": [
        "from projectq import MainEngine\n",
        "from projectq.backends import Simulator\n",
        "from projectq.ops import StatePreparation, X, H, Measure, All\n",
        "from projectq.meta import Loop, Control, Compute, Uncompute\n",
        "\n",
        "import math\n",
        "\n"
      ],
      "execution_count": 0,
      "outputs": []
    },
    {
      "cell_type": "code",
      "metadata": {
        "id": "vW9nurdFLv2z",
        "colab_type": "code",
        "outputId": "974c0475-ebea-40e0-a997-833e51d95433",
        "colab": {
          "base_uri": "https://localhost:8080/",
          "height": 139
        }
      },
      "source": [
        "# List of non error and error ancilla result\n",
        "nonerror_list = [[0, 0, 0], [0, 1, 1], [1, 0, 0], [1, 1, 1]]\n",
        "error_list = [[0, 0, 1], [0, 1, 0], [1, 0, 1], [1, 1, 0]]\n",
        "\n",
        "# Quantum process\n",
        "eng = MainEngine()\n",
        "\n",
        "info_qbits = eng.allocate_qureg(3)\n",
        "\n",
        "ancilla1 = eng.allocate_qureg(3)\n",
        "ancilla2 = eng.allocate_qureg(3)\n",
        "\n",
        "amplitude0 = math.sqrt(3)/2.\n",
        "amplitude1 = 1./2.\n",
        "StatePreparation([amplitude0, amplitude1]) | info_qbits[0]\n",
        "\n",
        "# Prepare the protected state\n",
        "# Code: 3 redundant qubit\n",
        "\n",
        "with Control(eng, info_qbits[0]):\n",
        "  All(X) | info_qbits[1:]\n",
        "\n",
        "# Prepare the entagled ancillas\n",
        "\n",
        "H | ancilla1[0]\n",
        "with Control(eng, ancilla1[0]):\n",
        "  All(X) | ancilla1[1:]\n",
        "  \n",
        "H | ancilla2[0]\n",
        "with Control(eng, ancilla2[0]):\n",
        "  All(X) | ancilla2[1:]\n",
        "\n",
        "# Distribute\n",
        "# Nothing to do, this is local simulation\n",
        "\n",
        "# A: info_qbits[0], ancilla1[1]\n",
        "# B: info_qbits[1], ancilla1[2], ancilla2[1]\n",
        "# C: info_qbits[2], ancilla2[2]\n",
        "\n",
        "# Let's introduce some (bit flip) error\n",
        "\n",
        "#X | info_qbits[2]\n",
        "\n",
        "# QEC\n",
        "\n",
        "# A\n",
        "with Control(eng, info_qbits[0]):\n",
        "  X | ancilla1[1]\n",
        "  \n",
        "# B\n",
        "with Control(eng, info_qbits[1]):\n",
        "  X | ancilla1[2]\n",
        "  X | ancilla2[1]\n",
        "  \n",
        "# C\n",
        "with Control(eng, info_qbits[2]):\n",
        "  X | ancilla2[2]\n",
        "  \n",
        "# Measure the ancillas to check for errors\n",
        "\n",
        "H | ancilla1[0]\n",
        "H | ancilla2[0]\n",
        "\n",
        "All(Measure) | ancilla1\n",
        "All(Measure) | ancilla2\n",
        "\n",
        "m_ancilla1 = [int(q) for q in ancilla1]\n",
        "m_ancilla2 = [int(q) for q in ancilla2]\n",
        "\n",
        "print(\"Ancilla measurement: 1: \",m_ancilla1, \" , 2: \",m_ancilla2)\n",
        "\n",
        "eng.flush()\n",
        "\n",
        "prob000 = eng.backend.get_probability('000', info_qbits)\n",
        "prob111 = eng.backend.get_probability('111', info_qbits)\n",
        "\n",
        "print(\"Info qubits probability: |000>\",prob000, \" , |111>: \",prob111, \" . It should be 0.75 and 0.25\")\n",
        "\n",
        "# Error detection and error recovery\n",
        "if (m_ancilla1 in nonerror_list) and (m_ancilla2 in nonerror_list):\n",
        "  print(\"\\nNo error or evesdrop happens, cool!, No error recovery required\\n\")\n",
        "elif (m_ancilla1 in error_list) and (m_ancilla2 in nonerror_list):\n",
        "  print(\"\\nError or Eve happens :-(  : m_ancilla1 = \", m_ancilla1, \", m_ancilla2 = \", m_ancilla2,\"\\n\")\n",
        "  X | info_qbits[0]\n",
        "  print (\"Error corrected with X0!\\n\")\n",
        "elif (m_ancilla1 in error_list) and (m_ancilla2 in error_list):\n",
        "  print(\"\\nError or Eve happens :-(  : m_ancilla1 = \", m_ancilla1, \", m_ancilla2 = \", m_ancilla2,\"\\n\")\n",
        "  X | info_qbits[1]\n",
        "  print (\"Error corrected with X1!\\n\")\n",
        "elif (m_ancilla1 in nonerror_list) and (m_ancilla2 in error_list):\n",
        "  print(\"\\nError or Eve happens :-(  : m_ancilla1 = \", m_ancilla1, \", m_ancilla2 = \", m_ancilla2,\"\\n\")\n",
        "  X | info_qbits[2]\n",
        "  print (\"Error corrected with X2!\\n\")\n",
        "\n",
        "\n",
        "eng.flush()\n",
        "\n",
        "prob000 = eng.backend.get_probability('000', info_qbits)\n",
        "prob111 = eng.backend.get_probability('111', info_qbits)\n",
        "\n",
        "print(\"Info qubits probability AFTER error recovery: |000>\",prob000, \" , |111>: \",prob111, \" . It should be 0.75 and 0.25\")\n",
        "\n",
        "All(Measure) | info_qbits\n",
        "\n",
        "eng.flush()\n",
        "\n"
      ],
      "execution_count": 17,
      "outputs": [
        {
          "output_type": "stream",
          "text": [
            "Ancilla measurement: 1:  [0, 1, 1]  , 2:  [0, 1, 1]\n",
            "Info qubits probability: |000> 0.7500000000002589  , |111>:  0.24999999999974126  . It should be 0.75 and 0.25\n",
            "\n",
            "No error or evesdrop happens, cool!, No error recovery required\n",
            "\n",
            "Info qubits probability AFTER error recovery: |000> 0.7500000000002589  , |111>:  0.24999999999974126  . It should be 0.75 and 0.25\n"
          ],
          "name": "stdout"
        }
      ]
    }
  ]
}