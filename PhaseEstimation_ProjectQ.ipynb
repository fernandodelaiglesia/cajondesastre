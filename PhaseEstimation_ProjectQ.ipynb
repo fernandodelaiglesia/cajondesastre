{
  "nbformat": 4,
  "nbformat_minor": 0,
  "metadata": {
    "colab": {
      "name": "PhaseEstimation_ProjectQ",
      "version": "0.3.2",
      "provenance": [],
      "collapsed_sections": [],
      "include_colab_link": true
    },
    "kernelspec": {
      "name": "python3",
      "display_name": "Python 3"
    }
  },
  "cells": [
    {
      "cell_type": "markdown",
      "metadata": {
        "id": "view-in-github",
        "colab_type": "text"
      },
      "source": [
        "<a href=\"https://colab.research.google.com/github/fernandodelaiglesia/cajondesastre/blob/master/PhaseEstimation_ProjectQ.ipynb\" target=\"_parent\"><img src=\"https://colab.research.google.com/assets/colab-badge.svg\" alt=\"Open In Colab\"/></a>"
      ]
    },
    {
      "cell_type": "markdown",
      "metadata": {
        "id": "gQ86ct3IpRsM",
        "colab_type": "text"
      },
      "source": [
        "\n",
        "# Preliminary notes\n",
        "\n",
        "This notebook is created assuming that the QPE gate is still in the develop branch, and therefore you need to clone the ProjectQ github repo to be able to use it.\n",
        "\n",
        "If you use this notebook after QPE is included in the python package you don't need to clone the repo and add the path to the sys.path, but just to install projectq with:\n",
        "\n",
        "\n",
        "```\n",
        "!pip install projectq\n",
        "```\n",
        "\n",
        "\n",
        "\n",
        "\n"
      ]
    },
    {
      "cell_type": "code",
      "metadata": {
        "id": "Uu5D5xtrkWTY",
        "colab_type": "code",
        "outputId": "72fa689f-86d4-4c42-bf24-5bcd1bf15918",
        "colab": {
          "base_uri": "https://localhost:8080/",
          "height": 34
        }
      },
      "source": [
        "! git clone https://github.com/ProjectQ-Framework/ProjectQ.git"
      ],
      "execution_count": 1,
      "outputs": [
        {
          "output_type": "stream",
          "text": [
            "fatal: destination path 'ProjectQ' already exists and is not an empty directory.\n"
          ],
          "name": "stdout"
        }
      ]
    },
    {
      "cell_type": "code",
      "metadata": {
        "id": "9mCX7dvCkkt7",
        "colab_type": "code",
        "colab": {}
      },
      "source": [
        "import sys\n",
        "sys.path.append('/content/ProjectQ/')"
      ],
      "execution_count": 0,
      "outputs": []
    },
    {
      "cell_type": "code",
      "metadata": {
        "id": "QK7MH7Bwesz4",
        "colab_type": "code",
        "colab": {}
      },
      "source": [
        "from projectq import MainEngine\n",
        "from projectq.backends import Simulator\n",
        "from projectq.ops import Ph, All, Measure, StatePreparation, H, X, CNOT\n",
        "from projectq.ops import QPE\n",
        "\n",
        "import math\n",
        "import numpy as np\n"
      ],
      "execution_count": 0,
      "outputs": []
    },
    {
      "cell_type": "markdown",
      "metadata": {
        "id": "8Nua43L7tDGH",
        "colab_type": "text"
      },
      "source": [
        "Import the required libs"
      ]
    },
    {
      "cell_type": "markdown",
      "metadata": {
        "id": "aC2QIUMitHxo",
        "colab_type": "text"
      },
      "source": [
        "# Simple usage of Quantum Phase Estimation for a system with just 1 qubit (system_qubits)\n",
        "The phase estimated is the expected because of the definition on the Unitary as a phase gate with pahse 0.125"
      ]
    },
    {
      "cell_type": "code",
      "metadata": {
        "id": "duOMH16oeuA_",
        "colab_type": "code",
        "outputId": "34c31008-6793-4e84-f578-0795b11be3b2",
        "colab": {
          "base_uri": "https://localhost:8080/",
          "height": 52
        }
      },
      "source": [
        "eng = MainEngine()\n",
        "\n",
        "n_qpe_ancillas = 3\n",
        "qpe_ancillas = eng.allocate_qureg(n_qpe_ancillas)\n",
        "system_qubits = eng.allocate_qureg(1)\n",
        "  \n",
        "angle = math.pi*2.*0.125\n",
        "U = Ph(angle)\n",
        "\n",
        "# Apply Quantum Phase Estimation\n",
        "QPE(U) | (qpe_ancillas, system_qubits)\n",
        "\n",
        "All(Measure) | qpe_ancillas\n",
        "# Compute the phase from the ancilla measurement\n",
        "#(https://en.wikipedia.org/wiki/Quantum_phase_estimation_algorithm)\n",
        "phasebinlist = [int(q) for q in qpe_ancillas]\n",
        "phase_in_bin = ''.join(str(j) for j in phasebinlist)\n",
        "phase_int = int(phase_in_bin,2)\n",
        "\n",
        "phase = phase_int / (2 ** n_qpe_ancillas)\n",
        "print (phase)\n",
        "  \n",
        "All(Measure) | system_qubits\n",
        "eng.flush()"
      ],
      "execution_count": 7,
      "outputs": [
        {
          "output_type": "stream",
          "text": [
            "(Note: This is the (slow) Python simulator.)\n",
            "0.125\n"
          ],
          "name": "stdout"
        }
      ]
    },
    {
      "cell_type": "markdown",
      "metadata": {
        "id": "wSIPEV8u8KvZ",
        "colab_type": "text"
      },
      "source": [
        ""
      ]
    },
    {
      "cell_type": "markdown",
      "metadata": {
        "colab_type": "text",
        "id": "kXUsqphJ8N1a"
      },
      "source": [
        "# Elaborated usage of Quantum Phase Estimation for a system with 2 qubit (system_qubits) and a elaborated Unitary Operation\n",
        "The state is not just an eigenstate of the unitary operation but it is a superposition of two of them\n",
        "\n",
        "The phase estimated should be 0.0 for the state |+> = 1/sqrt(2) (|00> + |10>) and 0.5 for the state |-> = 1/sqrt(2) (|00> - |10>).\n",
        "\n",
        "|+> and |-> are eigenstates for the unitary operator X·I\n",
        "\n",
        "The original state is a superposition of these two |+> and |->: |Phi> = sin(Pi/3) |+> + cos(Pi/3) |->\n"
      ]
    },
    {
      "cell_type": "code",
      "metadata": {
        "id": "x4dFrQ-kXua-",
        "colab_type": "code",
        "colab": {}
      },
      "source": [
        "from projectq.ops import MatrixGate\n",
        "\n",
        "# Definition of the elaborated unitary operation\n",
        "\n",
        "unitary_op = MatrixGate([[0, 1, 0, 0],\n",
        "                   [1, 0, 0, 0],\n",
        "                   [0, 0, 0, 1],\n",
        "                   [0, 0, 1, 0]])"
      ],
      "execution_count": 0,
      "outputs": []
    },
    {
      "cell_type": "code",
      "metadata": {
        "id": "hwsw-yjF0eYy",
        "colab_type": "code",
        "outputId": "d827cd57-6d29-4462-d9a5-973fa0d645dd",
        "colab": {
          "base_uri": "https://localhost:8080/",
          "height": 52
        }
      },
      "source": [
        "eng2 = MainEngine()\n",
        "\n",
        "n_qpe_ancillas = 1\n",
        "system_qubits = eng2.allocate_qureg(2)\n",
        "qpe_ancillas = eng2.allocate_qureg(n_qpe_ancillas)\n",
        "\n",
        "\n",
        "# Create the state\n",
        "amplitude00 = (np.sqrt(3) + 1.)/(np.sqrt(2) * 2.)\n",
        "amplitude10 = (np.sqrt(3) - 1.)/(np.sqrt(2) * 2.)\n",
        "StatePreparation([amplitude00, amplitude10, 0., 0.]) | system_qubits\n",
        "\n",
        "unit = unitary_op\n",
        "\n",
        "# Apply Quantum Phase Estimation\n",
        "QPE(unit) | (qpe_ancillas, system_qubits)\n",
        "All(Measure) | qpe_ancillas\n",
        "fasebinlist = [int(q) for q in qpe_ancillas]\n",
        "fasebin = ''.join(str(j) for j in fasebinlist)\n",
        "faseint = int(fasebin, 2)\n",
        "phase = faseint / (2. ** (len(qpe_ancillas)))\n",
        "results = phase\n",
        "\n",
        "H | system_qubits[0]\n",
        "\n",
        "if np.allclose(phase, .0, rtol=1e-1):\n",
        "  results_plus = phase\n",
        "  All(Measure) | system_qubits\n",
        "  autovector_result = [int(q) for q in system_qubits]\n",
        "  print (autovector_result, phase)\n",
        "elif np.allclose(phase, .5, rtol=1e-1):\n",
        "  results_minus = phase\n",
        "  All(Measure) | system_qubits\n",
        "  autovector_result = [int(q) for q in system_qubits]\n",
        "  print (autovector_result, phase)\n",
        "\n",
        "eng2.flush()\n"
      ],
      "execution_count": 13,
      "outputs": [
        {
          "output_type": "stream",
          "text": [
            "(Note: This is the (slow) Python simulator.)\n",
            "[1, 0] 0.5\n"
          ],
          "name": "stdout"
        }
      ]
    },
    {
      "cell_type": "markdown",
      "metadata": {
        "id": "3MkqIQStAFLa",
        "colab_type": "text"
      },
      "source": [
        "# Usage of parameter depending functions as unitary\n",
        "\n",
        "\n",
        "We create the Unitary function so that when it is exponentiated for the QPE algorithm, the result is equal to set the parameter to the exponentiation factor. In the example below the parameter is the variable \"*time*\" and the function is:\n"
      ]
    },
    {
      "cell_type": "code",
      "metadata": {
        "id": "xcVKMmkwnbzb",
        "colab_type": "code",
        "colab": {}
      },
      "source": [
        "def two_qubit_gate(system_q, time):\n",
        "  CNOT | (system_q[0], system_q[1])\n",
        "  Ph(2.0*math.pi*(time * 0.125)) | system_q[1]\n",
        "  CNOT | (system_q[0], system_q[1])"
      ],
      "execution_count": 0,
      "outputs": []
    },
    {
      "cell_type": "code",
      "metadata": {
        "id": "jIxvUiptndr-",
        "colab_type": "code",
        "outputId": "c99fa0db-4261-4812-875e-78726cdd6c43",
        "colab": {
          "base_uri": "https://localhost:8080/",
          "height": 54
        }
      },
      "source": [
        "eng3 = MainEngine()\n",
        "\n",
        "n_qpe_ancillas = 3\n",
        "qpe_ancillas = eng3.allocate_qureg(n_qpe_ancillas)\n",
        "system_qubits = eng3.allocate_qureg(2)\n",
        "\n",
        "X | system_qubits[0]\n",
        "\n",
        "# Apply Quantum Phase Estimation\n",
        "QPE(two_qubit_gate) | (qpe_ancillas, system_qubits)\n",
        "All(Measure) | qpe_ancillas\n",
        "phasebinlist = [int(q) for q in qpe_ancillas]\n",
        "phase_in_bin = ''.join(str(j) for j in phasebinlist)\n",
        "phase_int = int(phase_in_bin,2)\n",
        "\n",
        "phase = phase_int / (2 ** n_qpe_ancillas)\n",
        "print (phase)\n",
        "\n",
        "All(Measure) | system_qubits\n",
        "eng3.flush()"
      ],
      "execution_count": 0,
      "outputs": [
        {
          "output_type": "stream",
          "text": [
            "(Note: This is the (slow) Python simulator.)\n",
            "0.125\n"
          ],
          "name": "stdout"
        }
      ]
    },
    {
      "cell_type": "markdown",
      "metadata": {
        "id": "4M_HRuBVbYeg",
        "colab_type": "text"
      },
      "source": [
        "# Statistical results\n",
        "The phase estimation algorithm provides the estimation with some probability. That means that the algoritm will success with a certain probability (see the references)"
      ]
    },
    {
      "cell_type": "code",
      "metadata": {
        "id": "56U5AxgkigJm",
        "colab_type": "code",
        "outputId": "72414f42-d4d2-4256-859e-910e55a7bbf4",
        "colab": {
          "base_uri": "https://localhost:8080/",
          "height": 286
        }
      },
      "source": [
        "%matplotlib inline\n",
        "import matplotlib.pyplot as plt\n",
        "\n",
        "eng = MainEngine()\n",
        "\n",
        "angle = math.pi*2.*0.125\n",
        "U = Ph(angle)\n",
        "\n",
        "\n",
        "results = np.array([])\n",
        "for i in range(100):\n",
        "  autovector = eng.allocate_qureg(1)\n",
        "  ancillas = eng.allocate_qureg(3)\n",
        "  # Apply Quantum Phase Estimation\n",
        "  QPE(U) | (ancillas, autovector)\n",
        "  All(Measure) | ancillas\n",
        "  fasebinlist = [int(q) for q in ancillas]\n",
        "  fasebin = ''.join(str(j) for j in fasebinlist)\n",
        "  faseint = int(fasebin, 2)\n",
        "  phase = faseint / (2. ** (len(ancillas)))\n",
        "  results = np.append(results, phase)\n",
        "  All(Measure) | autovector\n",
        "  eng.flush()\n",
        "\n",
        "\n",
        "x=plt.hist(results, bins=30)\n",
        "\n"
      ],
      "execution_count": 15,
      "outputs": [
        {
          "output_type": "stream",
          "text": [
            "(Note: This is the (slow) Python simulator.)\n"
          ],
          "name": "stdout"
        },
        {
          "output_type": "display_data",
          "data": {
            "image/png": "[encoded data removed]",
            "text/plain": [
              "<Figure size 432x288 with 1 Axes>"
            ]
          },
          "metadata": {
            "tags": []
          }
        }
      ]
    }
  ]
}